{
  "nbformat": 4,
  "nbformat_minor": 0,
  "metadata": {
    "colab": {
      "name": "Tarea 1 MLBI.ipynb",
      "provenance": [],
      "collapsed_sections": [],
      "toc_visible": true,
      "authorship_tag": "ABX9TyOEqM0us0PR1TPyxwebWbeA",
      "include_colab_link": true
    },
    "kernelspec": {
      "name": "python3",
      "display_name": "Python 3"
    }
  },
  "cells": [
    {
      "cell_type": "markdown",
      "metadata": {
        "id": "view-in-github",
        "colab_type": "text"
      },
      "source": [
        "<a href=\"https://colab.research.google.com/github/FxknTT/TareaMLBI1/blob/master/Tarea_1_MLBI.ipynb\" target=\"_parent\"><img src=\"https://colab.research.google.com/assets/colab-badge.svg\" alt=\"Open In Colab\"/></a>"
      ]
    },
    {
      "cell_type": "markdown",
      "metadata": {
        "id": "a-3eVRZa63DO",
        "colab_type": "text"
      },
      "source": [
        "## **Tarea 1 de MLBI 2020-1**\n",
        "Hector Aguayo & Fabián Segura"
      ]
    },
    {
      "cell_type": "markdown",
      "metadata": {
        "id": "4_0Ji31b_K6X",
        "colab_type": "text"
      },
      "source": [
        "# Importación de modulos requeridos"
      ]
    },
    {
      "cell_type": "markdown",
      "metadata": {
        "id": "HuN3ttF27UYN",
        "colab_type": "text"
      },
      "source": [
        "Se importan numpy, pandas, tensorflow, etc"
      ]
    },
    {
      "cell_type": "code",
      "metadata": {
        "id": "WPf3_xNi7N0V",
        "colab_type": "code",
        "colab": {
          "base_uri": "https://localhost:8080/",
          "height": 34
        },
        "outputId": "d61d180b-ca17-49aa-d241-cf7f0137621e"
      },
      "source": [
        "from __future__ import absolute_import\n",
        "from __future__ import division\n",
        "from __future__ import print_function\n",
        "import os\n",
        "import logging\n",
        "os.environ['TF_CPP_MIN_VLOG_LEVEL'] = '0'\n",
        "os.environ['TF_CPP_MIN_LOG_LEVEL'] = '3'\n",
        "logging.getLogger(\"tensorflow\").setLevel(logging.WARNING)\n",
        "import numpy as np\n",
        "from datetime import datetime\n",
        "import pandas as pd\n",
        "import tensorflow as tf\n",
        "from tensorflow import keras\n",
        "tf.get_logger().setLevel(\"ERROR\")\n",
        "tf.autograph.set_verbosity(2)\n",
        "\n",
        "print(\"TensorFlow version: \", tf.__version__)"
      ],
      "execution_count": 3,
      "outputs": [
        {
          "output_type": "stream",
          "text": [
            "TensorFlow version:  2.2.0-rc3\n"
          ],
          "name": "stdout"
        }
      ]
    },
    {
      "cell_type": "markdown",
      "metadata": {
        "id": "Q8sEazMy72nr",
        "colab_type": "text"
      },
      "source": [
        "Se deben leer los datos de los dataset envíados, el primero es un archivo .xls"
      ]
    },
    {
      "cell_type": "markdown",
      "metadata": {
        "id": "iY0CoiVj_pYZ",
        "colab_type": "text"
      },
      "source": [
        "# Leen los datos desde excel"
      ]
    },
    {
      "cell_type": "markdown",
      "metadata": {
        "id": "0CqnC-k8MfbX",
        "colab_type": "text"
      },
      "source": [
        "Se abre archivo desde Github"
      ]
    },
    {
      "cell_type": "code",
      "metadata": {
        "id": "Ml-pZhwnMfNp",
        "colab_type": "code",
        "colab": {}
      },
      "source": [
        ""
      ],
      "execution_count": 0,
      "outputs": []
    },
    {
      "cell_type": "code",
      "metadata": {
        "id": "wNBdeRHe79nT",
        "colab_type": "code",
        "colab": {}
      },
      "source": [
        "url = 'https://github.com/FxknTT/TareaMLBI1/blob/master/dataset1.xlsx?raw=true'\n",
        "data = pd.read_excel(url)\n"
      ],
      "execution_count": 0,
      "outputs": []
    },
    {
      "cell_type": "markdown",
      "metadata": {
        "id": "NRm0Dj5GLEPc",
        "colab_type": "text"
      },
      "source": [
        "Cambiar datos de tipo string a números"
      ]
    },
    {
      "cell_type": "code",
      "metadata": {
        "id": "s8tsOo9NLD8u",
        "colab_type": "code",
        "colab": {}
      },
      "source": [
        "x = data\n",
        "y = data['cluster']\n",
        "\n",
        "for i in range(0,len(y)):\n",
        "  for j in range(5):\n",
        "    clase = \"C\"+str(j)\n",
        "    if y[i] == clase:\n",
        "      y[i]=j"
      ],
      "execution_count": 0,
      "outputs": []
    },
    {
      "cell_type": "markdown",
      "metadata": {
        "id": "ZcGHzLyhQyAy",
        "colab_type": "text"
      },
      "source": [
        "Ahora cambiamos los nombres de las carreras a números"
      ]
    },
    {
      "cell_type": "code",
      "metadata": {
        "id": "0OmtMha3Q134",
        "colab_type": "code",
        "colab": {}
      },
      "source": [
        "crr=pd.unique(data['crr_Nom'])\n",
        "for i in range(0, len(y)):\n",
        "  for j in range(0, len(crr)):\n",
        "    if x[i] == crr[j]:\n",
        "      x[i]=j\n",
        "\n",
        "print \n",
        "\n",
        "\n",
        "\n"
      ],
      "execution_count": 0,
      "outputs": []
    },
    {
      "cell_type": "markdown",
      "metadata": {
        "id": "Q5EF7VJPA9Iy",
        "colab_type": "text"
      },
      "source": [
        "Luego se calculan cuántos datos hay en el archivo"
      ]
    },
    {
      "cell_type": "code",
      "metadata": {
        "id": "Q_7UInsUBAba",
        "colab_type": "code",
        "colab": {
          "base_uri": "https://localhost:8080/",
          "height": 235
        },
        "outputId": "1098c77c-131e-470e-e7e2-f32f87e23e24"
      },
      "source": [
        "data_size = len(data)\n",
        "train_pct = 0.8\n",
        "\n",
        "train_size = int(data_size * train_pct)\n",
        "print(train_size)\n",
        "\n",
        "x_train = data[:train_size]\n",
        "\n"
      ],
      "execution_count": 50,
      "outputs": [
        {
          "output_type": "stream",
          "text": [
            "0       C2\n",
            "1       C1\n",
            "2       C3\n",
            "3       C2\n",
            "4       C2\n",
            "        ..\n",
            "7861    C2\n",
            "7862    C2\n",
            "7863    C3\n",
            "7864    C2\n",
            "7865    C4\n",
            "Name: cluster, Length: 7866, dtype: object\n",
            "6292\n"
          ],
          "name": "stdout"
        }
      ]
    }
  ]
}